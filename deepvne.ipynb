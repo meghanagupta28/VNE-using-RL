{
 "cells": [
  {
   "cell_type": "markdown",
   "id": "4eb0b1d4",
   "metadata": {
    "papermill": {
     "duration": 0.006818,
     "end_time": "2023-11-06T20:02:01.906990",
     "exception": false,
     "start_time": "2023-11-06T20:02:01.900172",
     "status": "completed"
    },
    "tags": []
   },
   "source": [
    "# **Creating data**"
   ]
  },
  {
   "cell_type": "markdown",
   "id": "eddb2623",
   "metadata": {
    "papermill": {
     "duration": 0.005885,
     "end_time": "2023-11-06T20:02:01.919156",
     "exception": false,
     "start_time": "2023-11-06T20:02:01.913271",
     "status": "completed"
    },
    "tags": []
   },
   "source": [
    "## **Virtual Node and Network Creation** (Channel 1)"
   ]
  },
  {
   "cell_type": "markdown",
   "id": "de7edc6c",
   "metadata": {
    "papermill": {
     "duration": 0.005757,
     "end_time": "2023-11-06T20:02:01.930941",
     "exception": false,
     "start_time": "2023-11-06T20:02:01.925184",
     "status": "completed"
    },
    "tags": []
   },
   "source": [
    "### Virtual Node Defintion"
   ]
  },
  {
   "cell_type": "code",
   "execution_count": 1,
   "id": "ee56c4c5",
   "metadata": {
    "execution": {
     "iopub.execute_input": "2023-11-06T20:02:01.944618Z",
     "iopub.status.busy": "2023-11-06T20:02:01.944245Z",
     "iopub.status.idle": "2023-11-06T20:02:01.953707Z",
     "shell.execute_reply": "2023-11-06T20:02:01.952968Z"
    },
    "papermill": {
     "duration": 0.01853,
     "end_time": "2023-11-06T20:02:01.955555",
     "exception": false,
     "start_time": "2023-11-06T20:02:01.937025",
     "status": "completed"
    },
    "tags": []
   },
   "outputs": [],
   "source": [
    "class V_Node:\n",
    "    def __init__(self, cpu_demand, v_node_id, status_variable, indicator_variable):\n",
    "        self.cpu_demand = cpu_demand\n",
    "        self.v_node_id = v_node_id\n",
    "        self.status_variable = status_variable\n",
    "        self.indicator_variable = indicator_variable"
   ]
  },
  {
   "cell_type": "markdown",
   "id": "6291e111",
   "metadata": {
    "papermill": {
     "duration": 0.005876,
     "end_time": "2023-11-06T20:02:01.967718",
     "exception": false,
     "start_time": "2023-11-06T20:02:01.961842",
     "status": "completed"
    },
    "tags": []
   },
   "source": [
    "### Virtual Network Creation"
   ]
  },
  {
   "cell_type": "code",
   "execution_count": 2,
   "id": "2f451532",
   "metadata": {
    "execution": {
     "iopub.execute_input": "2023-11-06T20:02:01.981987Z",
     "iopub.status.busy": "2023-11-06T20:02:01.981341Z",
     "iopub.status.idle": "2023-11-06T20:02:01.989237Z",
     "shell.execute_reply": "2023-11-06T20:02:01.988527Z"
    },
    "papermill": {
     "duration": 0.017328,
     "end_time": "2023-11-06T20:02:01.991115",
     "exception": false,
     "start_time": "2023-11-06T20:02:01.973787",
     "status": "completed"
    },
    "tags": []
   },
   "outputs": [],
   "source": [
    "import random\n",
    "\n",
    "def create_virtual_network(num_nodes_horizontal, num_nodes_vertical):\n",
    "    \n",
    "    if num_nodes_horizontal <= 0 or num_nodes_vertical <= 0:\n",
    "        return None\n",
    "\n",
    "    grid_size = (num_nodes_vertical * 2 - 1, num_nodes_horizontal* 2 -1)\n",
    "\n",
    "    graph = [[None] * grid_size[1] for _ in range(grid_size[0])]\n",
    "\n",
    "    for i in range(grid_size[0]):\n",
    "        for j in range(grid_size[1]):\n",
    "            if i % 2 == 0 and j % 2 == 0:\n",
    "                # Nodes\n",
    "                cpu_demand = random.uniform(0.1, 2.0)\n",
    "                v_node_id = (i, j)\n",
    "                status_variable = 1\n",
    "                indicator_variable = False\n",
    "\n",
    "                node = V_Node(cpu_demand, v_node_id, status_variable, indicator_variable)\n",
    "                graph[i][j] = node\n",
    "            elif i % 2 == 0 and j % 2 == 1:\n",
    "                # Horizontal Links (Random Bandwidth)\n",
    "                bandwidth = random.uniform(1.0, 10.0)\n",
    "                graph[i][j] = bandwidth\n",
    "            elif i % 2 == 1 and j % 2 == 0:\n",
    "                # Vertical Links (Random Bandwidth)\n",
    "                bandwidth = random.uniform(1.0, 10.0)\n",
    "                graph[i][j] = bandwidth\n",
    "            else:\n",
    "                # Empty spaces\n",
    "                graph[i][j] = 0\n",
    "\n",
    "    return graph"
   ]
  },
  {
   "cell_type": "markdown",
   "id": "2008083c",
   "metadata": {
    "papermill": {
     "duration": 0.00598,
     "end_time": "2023-11-06T20:02:02.003321",
     "exception": false,
     "start_time": "2023-11-06T20:02:01.997341",
     "status": "completed"
    },
    "tags": []
   },
   "source": [
    "### Printing Virtual Network"
   ]
  },
  {
   "cell_type": "code",
   "execution_count": 3,
   "id": "2784405f",
   "metadata": {
    "execution": {
     "iopub.execute_input": "2023-11-06T20:02:02.017679Z",
     "iopub.status.busy": "2023-11-06T20:02:02.017048Z",
     "iopub.status.idle": "2023-11-06T20:02:02.021910Z",
     "shell.execute_reply": "2023-11-06T20:02:02.021235Z"
    },
    "papermill": {
     "duration": 0.014149,
     "end_time": "2023-11-06T20:02:02.023742",
     "exception": false,
     "start_time": "2023-11-06T20:02:02.009593",
     "status": "completed"
    },
    "tags": []
   },
   "outputs": [],
   "source": [
    "def print_virtual_topology(graph):\n",
    "    for row in graph:\n",
    "        row_str = ''\n",
    "        for cell in row:\n",
    "            if isinstance(cell, (float, int)):\n",
    "                row_str += f'[BW : {cell:.2f}]'\n",
    "            else :\n",
    "                node_info = cell\n",
    "                row_str += f'[CPU: {node_info.cpu_demand:.2f}]'\n",
    "#                 row_str += f'[CPU: {node_info.cpu_demand:.2f}, ID: {node_info.v_node_id}, status: {node_info.status_variable}, indicator_variable: {node_info.indicator_variable}] '\n",
    "        print(row_str)"
   ]
  },
  {
   "cell_type": "markdown",
   "id": "925bc695",
   "metadata": {
    "papermill": {
     "duration": 0.005912,
     "end_time": "2023-11-06T20:02:02.035805",
     "exception": false,
     "start_time": "2023-11-06T20:02:02.029893",
     "status": "completed"
    },
    "tags": []
   },
   "source": [
    "### Example Virtual Network"
   ]
  },
  {
   "cell_type": "code",
   "execution_count": 4,
   "id": "b32462d4",
   "metadata": {
    "execution": {
     "iopub.execute_input": "2023-11-06T20:02:02.049589Z",
     "iopub.status.busy": "2023-11-06T20:02:02.049204Z",
     "iopub.status.idle": "2023-11-06T20:02:02.054790Z",
     "shell.execute_reply": "2023-11-06T20:02:02.053854Z"
    },
    "papermill": {
     "duration": 0.015714,
     "end_time": "2023-11-06T20:02:02.057623",
     "exception": false,
     "start_time": "2023-11-06T20:02:02.041909",
     "status": "completed"
    },
    "tags": []
   },
   "outputs": [
    {
     "name": "stdout",
     "output_type": "stream",
     "text": [
      "[CPU: 0.33][BW : 5.73][CPU: 1.47]\n",
      "[BW : 7.39][BW : 0.00][BW : 3.85]\n",
      "[CPU: 1.40][BW : 9.39][CPU: 0.96]\n",
      "[BW : 6.91][BW : 0.00][BW : 1.66]\n",
      "[CPU: 1.85][BW : 3.96][CPU: 0.22]\n"
     ]
    }
   ],
   "source": [
    "num_nodes_vertical = 3\n",
    "num_nodes_horizontal = 2\n",
    "\n",
    "grid = create_virtual_network(num_nodes_horizontal, num_nodes_vertical)\n",
    "\n",
    "print_virtual_topology(grid)"
   ]
  },
  {
   "cell_type": "markdown",
   "id": "3c887e96",
   "metadata": {
    "papermill": {
     "duration": 0.006184,
     "end_time": "2023-11-06T20:02:02.070606",
     "exception": false,
     "start_time": "2023-11-06T20:02:02.064422",
     "status": "completed"
    },
    "tags": []
   },
   "source": [
    "## **Physical Node and Network Creation** (Channel 1)"
   ]
  },
  {
   "cell_type": "markdown",
   "id": "a6691eb3",
   "metadata": {
    "papermill": {
     "duration": 0.006042,
     "end_time": "2023-11-06T20:02:02.082904",
     "exception": false,
     "start_time": "2023-11-06T20:02:02.076862",
     "status": "completed"
    },
    "tags": []
   },
   "source": [
    "### Physical Node Defintion"
   ]
  },
  {
   "cell_type": "code",
   "execution_count": 5,
   "id": "48d010f5",
   "metadata": {
    "execution": {
     "iopub.execute_input": "2023-11-06T20:02:02.097294Z",
     "iopub.status.busy": "2023-11-06T20:02:02.096667Z",
     "iopub.status.idle": "2023-11-06T20:02:02.101783Z",
     "shell.execute_reply": "2023-11-06T20:02:02.100747Z"
    },
    "papermill": {
     "duration": 0.014466,
     "end_time": "2023-11-06T20:02:02.103793",
     "exception": false,
     "start_time": "2023-11-06T20:02:02.089327",
     "status": "completed"
    },
    "tags": []
   },
   "outputs": [],
   "source": [
    "class P_Node:\n",
    "    def __init__(self, avail_cpu, p_node_id, indicator_variable, v_node_count):\n",
    "        self.avail_cpu = avail_cpu\n",
    "        self.p_node_id = p_node_id\n",
    "        self.indicator_variable = indicator_variable\n",
    "        self.v_node_count = v_node_count"
   ]
  },
  {
   "cell_type": "markdown",
   "id": "17c40f82",
   "metadata": {
    "papermill": {
     "duration": 0.006047,
     "end_time": "2023-11-06T20:02:02.116357",
     "exception": false,
     "start_time": "2023-11-06T20:02:02.110310",
     "status": "completed"
    },
    "tags": []
   },
   "source": [
    "### Physical Network Creation"
   ]
  },
  {
   "cell_type": "code",
   "execution_count": 6,
   "id": "d72f6985",
   "metadata": {
    "execution": {
     "iopub.execute_input": "2023-11-06T20:02:02.131203Z",
     "iopub.status.busy": "2023-11-06T20:02:02.130072Z",
     "iopub.status.idle": "2023-11-06T20:02:02.139014Z",
     "shell.execute_reply": "2023-11-06T20:02:02.138285Z"
    },
    "papermill": {
     "duration": 0.018434,
     "end_time": "2023-11-06T20:02:02.141131",
     "exception": false,
     "start_time": "2023-11-06T20:02:02.122697",
     "status": "completed"
    },
    "tags": []
   },
   "outputs": [],
   "source": [
    "import random\n",
    "\n",
    "def create_physical_network(num_nodes_horizontal, num_nodes_vertical):\n",
    "    if num_nodes_horizontal <= 0 or num_nodes_vertical <= 0:\n",
    "        return None\n",
    "\n",
    "    grid_size = (num_nodes_vertical * 2 - 1, num_nodes_horizontal* 2 -1)\n",
    "\n",
    "    graph = [[None] * grid_size[1] for _ in range(grid_size[0])]\n",
    "\n",
    "    for i in range(grid_size[0]):\n",
    "        for j in range(grid_size[1]):\n",
    "            if i % 2 == 0 and j % 2 == 0:\n",
    "                # Nodes\n",
    "                avail_cpu = random.uniform(0.1, 2.0)\n",
    "                p_node_id = (i, j)\n",
    "                indicator_variable = False\n",
    "                v_node_count = 0\n",
    "\n",
    "                node = P_Node(avail_cpu, p_node_id, indicator_variable, v_node_count)\n",
    "                graph[i][j] = node\n",
    "            elif i % 2 == 0 and j % 2 == 1:\n",
    "                # Horizontal Links (Random Bandwidth)\n",
    "                bandwidth = random.uniform(1.0, 10.0)\n",
    "                graph[i][j] = bandwidth\n",
    "            elif i % 2 == 1 and j % 2 == 0:\n",
    "                # Vertical Links (Random Bandwidth)\n",
    "                bandwidth = random.uniform(1.0, 10.0)\n",
    "                graph[i][j] = bandwidth\n",
    "            else:\n",
    "                # Empty spaces\n",
    "                graph[i][j] = 0\n",
    "\n",
    "    return graph"
   ]
  },
  {
   "cell_type": "markdown",
   "id": "361c1003",
   "metadata": {
    "papermill": {
     "duration": 0.006098,
     "end_time": "2023-11-06T20:02:02.153608",
     "exception": false,
     "start_time": "2023-11-06T20:02:02.147510",
     "status": "completed"
    },
    "tags": []
   },
   "source": [
    "### Printing Physical Network"
   ]
  },
  {
   "cell_type": "code",
   "execution_count": 7,
   "id": "cbf34289",
   "metadata": {
    "execution": {
     "iopub.execute_input": "2023-11-06T20:02:02.168432Z",
     "iopub.status.busy": "2023-11-06T20:02:02.167693Z",
     "iopub.status.idle": "2023-11-06T20:02:02.173339Z",
     "shell.execute_reply": "2023-11-06T20:02:02.172647Z"
    },
    "papermill": {
     "duration": 0.015307,
     "end_time": "2023-11-06T20:02:02.175295",
     "exception": false,
     "start_time": "2023-11-06T20:02:02.159988",
     "status": "completed"
    },
    "tags": []
   },
   "outputs": [],
   "source": [
    "def print_physical_topology(graph):\n",
    "    for row in graph:\n",
    "        row_str = ''\n",
    "        for cell in row:\n",
    "            if isinstance(cell, (float, int)):\n",
    "                row_str += f'[BW : {cell:.2f}]'\n",
    "            else :\n",
    "                node_info = cell\n",
    "                row_str += f'[CPU: {node_info.avail_cpu:.2f}]'\n",
    "#                 row_str += f'[CPU: {node_info.cpu_demand:.2f}, ID: {node_info.v_node_id}, status: {node_info.status_variable}, indicator_variable: {node_info.indicator_variable}] '\n",
    "        print(row_str)"
   ]
  },
  {
   "cell_type": "markdown",
   "id": "de1125be",
   "metadata": {
    "papermill": {
     "duration": 0.005939,
     "end_time": "2023-11-06T20:02:02.187461",
     "exception": false,
     "start_time": "2023-11-06T20:02:02.181522",
     "status": "completed"
    },
    "tags": []
   },
   "source": [
    "### Example Physical Network"
   ]
  },
  {
   "cell_type": "code",
   "execution_count": 8,
   "id": "149214d8",
   "metadata": {
    "execution": {
     "iopub.execute_input": "2023-11-06T20:02:02.202593Z",
     "iopub.status.busy": "2023-11-06T20:02:02.201786Z",
     "iopub.status.idle": "2023-11-06T20:02:02.208280Z",
     "shell.execute_reply": "2023-11-06T20:02:02.207024Z"
    },
    "papermill": {
     "duration": 0.016509,
     "end_time": "2023-11-06T20:02:02.210329",
     "exception": false,
     "start_time": "2023-11-06T20:02:02.193820",
     "status": "completed"
    },
    "tags": []
   },
   "outputs": [
    {
     "name": "stdout",
     "output_type": "stream",
     "text": [
      "[CPU: 0.19][BW : 5.16][CPU: 0.62]\n",
      "[BW : 5.72][BW : 0.00][BW : 5.80]\n",
      "[CPU: 1.08][BW : 2.26][CPU: 0.82]\n",
      "[BW : 8.84][BW : 0.00][BW : 8.15]\n",
      "[CPU: 0.86][BW : 8.36][CPU: 1.77]\n"
     ]
    }
   ],
   "source": [
    "num_nodes_vertical = 3\n",
    "num_nodes_horizontal = 2\n",
    "\n",
    "\n",
    "grid = create_physical_network(num_nodes_horizontal, num_nodes_vertical)\n",
    "\n",
    "print_physical_topology(grid)"
   ]
  },
  {
   "cell_type": "markdown",
   "id": "d6bb6c0a",
   "metadata": {
    "papermill": {
     "duration": 0.006101,
     "end_time": "2023-11-06T20:02:02.222749",
     "exception": false,
     "start_time": "2023-11-06T20:02:02.216648",
     "status": "completed"
    },
    "tags": []
   },
   "source": [
    "## **Channel 2**"
   ]
  },
  {
   "cell_type": "code",
   "execution_count": 9,
   "id": "944e62ff",
   "metadata": {
    "execution": {
     "iopub.execute_input": "2023-11-06T20:02:02.237965Z",
     "iopub.status.busy": "2023-11-06T20:02:02.237346Z",
     "iopub.status.idle": "2023-11-06T20:02:02.245387Z",
     "shell.execute_reply": "2023-11-06T20:02:02.243997Z"
    },
    "papermill": {
     "duration": 0.017757,
     "end_time": "2023-11-06T20:02:02.247311",
     "exception": false,
     "start_time": "2023-11-06T20:02:02.229554",
     "status": "completed"
    },
    "tags": []
   },
   "outputs": [
    {
     "name": "stdout",
     "output_type": "stream",
     "text": [
      "[0, 0, 0, 0, 0, 0, 0]\n",
      "[0, None, 0, None, 0, None, 0]\n",
      "[0, 0, 0, 0, 0, 0, 0]\n",
      "[0, None, 0, None, 0, None, 0]\n",
      "[0, 0, 0, 0, 0, 0, 0]\n",
      "[0, None, 0, None, 0, None, 0]\n",
      "[0, 0, 0, 0, 0, 0, 0]\n"
     ]
    }
   ],
   "source": [
    "def channel_2(rows, columns):\n",
    "    matrix = []\n",
    "    \n",
    "    rows = rows * 2 - 1\n",
    "    columns = columns * 2 - 1\n",
    "\n",
    "    for i in range(rows):\n",
    "        row = []\n",
    "        for j in range(columns):\n",
    "            if i % 2 == 1 and j % 2 == 1:\n",
    "                row.append(None)\n",
    "            else:\n",
    "                row.append(0)\n",
    "        matrix.append(row)\n",
    "\n",
    "    return matrix\n",
    "\n",
    "\n",
    "rows = 4\n",
    "columns = 4\n",
    "resulting_matrix = channel_2(rows, columns)\n",
    "\n",
    "for row in resulting_matrix:\n",
    "    print(row)\n"
   ]
  },
  {
   "cell_type": "markdown",
   "id": "24cde333",
   "metadata": {
    "papermill": {
     "duration": 0.006294,
     "end_time": "2023-11-06T20:02:02.261017",
     "exception": false,
     "start_time": "2023-11-06T20:02:02.254723",
     "status": "completed"
    },
    "tags": []
   },
   "source": [
    "## **Channel 3**"
   ]
  },
  {
   "cell_type": "code",
   "execution_count": 10,
   "id": "6fab59c6",
   "metadata": {
    "execution": {
     "iopub.execute_input": "2023-11-06T20:02:02.275959Z",
     "iopub.status.busy": "2023-11-06T20:02:02.275292Z",
     "iopub.status.idle": "2023-11-06T20:02:02.282424Z",
     "shell.execute_reply": "2023-11-06T20:02:02.281312Z"
    },
    "papermill": {
     "duration": 0.016691,
     "end_time": "2023-11-06T20:02:02.284325",
     "exception": false,
     "start_time": "2023-11-06T20:02:02.267634",
     "status": "completed"
    },
    "tags": []
   },
   "outputs": [
    {
     "name": "stdout",
     "output_type": "stream",
     "text": [
      "[1, 1, 1, 1, 1, 1, 1]\n",
      "[1, None, 1, None, 1, None, 1]\n",
      "[1, 1, 1, 1, 1, 1, 1]\n",
      "[1, None, 1, None, 1, None, 1]\n",
      "[1, 1, 1, 1, 1, 1, 1]\n",
      "[1, None, 1, None, 1, None, 1]\n",
      "[1, 1, 1, 1, 1, 1, 1]\n"
     ]
    }
   ],
   "source": [
    "def channel_3(rows, columns):\n",
    "    matrix = []\n",
    "    \n",
    "    rows = rows * 2 - 1\n",
    "    columns = columns * 2 - 1\n",
    "\n",
    "    for i in range(rows):\n",
    "        row = []\n",
    "        for j in range(columns):\n",
    "            if i % 2 == 1 and j % 2 == 1:\n",
    "                row.append(None)\n",
    "            else:\n",
    "                row.append(1)\n",
    "        matrix.append(row)\n",
    "\n",
    "    return matrix\n",
    "\n",
    "\n",
    "rows = 4\n",
    "columns = 4\n",
    "resulting_matrix = channel_3(rows, columns)\n",
    "\n",
    "for row in resulting_matrix:\n",
    "    print(row)\n"
   ]
  },
  {
   "cell_type": "markdown",
   "id": "c4c5ec28",
   "metadata": {
    "papermill": {
     "duration": 0.006205,
     "end_time": "2023-11-06T20:02:02.296950",
     "exception": false,
     "start_time": "2023-11-06T20:02:02.290745",
     "status": "completed"
    },
    "tags": []
   },
   "source": [
    "# **Reinforcement Learning**"
   ]
  },
  {
   "cell_type": "code",
   "execution_count": 11,
   "id": "c0153f9a",
   "metadata": {
    "execution": {
     "iopub.execute_input": "2023-11-06T20:02:02.312154Z",
     "iopub.status.busy": "2023-11-06T20:02:02.311467Z",
     "iopub.status.idle": "2023-11-06T20:02:02.316970Z",
     "shell.execute_reply": "2023-11-06T20:02:02.316287Z"
    },
    "papermill": {
     "duration": 0.015411,
     "end_time": "2023-11-06T20:02:02.319002",
     "exception": false,
     "start_time": "2023-11-06T20:02:02.303591",
     "status": "completed"
    },
    "tags": []
   },
   "outputs": [],
   "source": [
    "# import numpy as np\n",
    "\n",
    "# # Define the Q-learning parameters\n",
    "# num_states = 2  # Number of states (0 - VN not embedded, 1 - VN embedded)\n",
    "# num_actions = 9  # Number of actions (4 to change virtual pointer, 4 to update physical pointer, 1 to embed)\n",
    "\n",
    "# # Define the Q-table\n",
    "# Q = np.zeros((num_states, num_actions))\n",
    "\n",
    "# # Define the learning rate and discount factor\n",
    "# learning_rate = 0.1\n",
    "# discount_factor = 0.9\n",
    "\n",
    "# # Define the exploration parameters\n",
    "# exploration_prob = 0.2\n",
    "# max_episodes = 4000  # Define the number of episodes\n",
    "\n",
    "# # Environment parameters\n",
    "# initial_state = 0  # Start in state 0 (VN not embedded)\n",
    "\n",
    "\n",
    "# # Define the reward function\n",
    "# def get_reward(state, action, is_successful, is_capacity_sufficient):\n",
    "#     # You need to implement the reward function based on the success of embedding and capacity sufficiency\n",
    "#     reward = 0\n",
    "\n",
    "#     if state == 0 and action == 8:  # VN not embedded and action to embed\n",
    "#         if is_successful and is_capacity_sufficient:\n",
    "#             reward = 1  # Positive reward for successful embedding\n",
    "     \n",
    "#         else:\n",
    "#             reward = -0.01  # Negative reward for failure\n",
    "\n",
    "#     # Add more reward conditions based on the specific problem\n",
    "\n",
    "#     return reward\n",
    "\n",
    "# # Q-learning algorithm\n",
    "# for episode in range(max_episodes):\n",
    "#     state = initial_state\n",
    "#     done = False\n",
    "#     total_reward = 0\n",
    "\n",
    "#     while not done:\n",
    "#         # Exploration vs. exploitation\n",
    "#         if np.random.rand() < exploration_prob:\n",
    "#             action = np.random.choice(num_actions)\n",
    "#         else:\n",
    "#             action = np.argmax(Q[state])\n",
    "\n",
    "#         # Implement environment updates based on the chosen action\n",
    "#         # Set is_successful and is_capacity_sufficient based on the outcomes of the action\n",
    "\n",
    "#         # Get the reward for the current state, action, and success indicators\n",
    "#         reward = get_reward(state, action, is_successful, is_capacity_sufficient)\n",
    "\n",
    "#         # Update the Q-table\n",
    "#         next_state = 1 if action == 8 else state  # If action 8 (embedding), move to state 1\n",
    "#         Q[state, action] = (1 - learning_rate) * Q[state, action] + learning_rate * (reward + discount_factor * np.max(Q[next_state]))\n",
    "\n",
    "#         total_reward += reward\n",
    "#         state = next_state\n",
    "\n",
    "#         # Check if the episode is done\n",
    "#         if state == 1:\n",
    "#             done = True\n",
    "\n",
    "#     print(f\"Episode {episode + 1}: Total Reward = {total_reward}\")\n",
    "\n",
    "# # After training, you can use the Q-table to make decisions\n",
    "# # Select actions based on the highest Q-value for a given state"
   ]
  },
  {
   "cell_type": "markdown",
   "id": "a7fccdfd",
   "metadata": {
    "papermill": {
     "duration": 0.006447,
     "end_time": "2023-11-06T20:02:02.332466",
     "exception": false,
     "start_time": "2023-11-06T20:02:02.326019",
     "status": "completed"
    },
    "tags": []
   },
   "source": [
    "### **Size of the Networks to be used**"
   ]
  },
  {
   "cell_type": "code",
   "execution_count": 12,
   "id": "0b641772",
   "metadata": {
    "execution": {
     "iopub.execute_input": "2023-11-06T20:02:02.348145Z",
     "iopub.status.busy": "2023-11-06T20:02:02.347637Z",
     "iopub.status.idle": "2023-11-06T20:02:02.351925Z",
     "shell.execute_reply": "2023-11-06T20:02:02.351188Z"
    },
    "papermill": {
     "duration": 0.014688,
     "end_time": "2023-11-06T20:02:02.353964",
     "exception": false,
     "start_time": "2023-11-06T20:02:02.339276",
     "status": "completed"
    },
    "tags": []
   },
   "outputs": [],
   "source": [
    "#Virtual Network\n",
    "v_rows = 3\n",
    "v_cols = 3\n",
    "\n",
    "#Physical Network\n",
    "p_rows = 5\n",
    "p_cols = 5"
   ]
  },
  {
   "cell_type": "markdown",
   "id": "f41ad05f",
   "metadata": {
    "papermill": {
     "duration": 0.006286,
     "end_time": "2023-11-06T20:02:02.366964",
     "exception": false,
     "start_time": "2023-11-06T20:02:02.360678",
     "status": "completed"
    },
    "tags": []
   },
   "source": [
    "### **Creation of Networks**"
   ]
  },
  {
   "cell_type": "code",
   "execution_count": 13,
   "id": "fbf6ecf9",
   "metadata": {
    "execution": {
     "iopub.execute_input": "2023-11-06T20:02:02.381674Z",
     "iopub.status.busy": "2023-11-06T20:02:02.381280Z",
     "iopub.status.idle": "2023-11-06T20:02:02.386587Z",
     "shell.execute_reply": "2023-11-06T20:02:02.385675Z"
    },
    "papermill": {
     "duration": 0.014814,
     "end_time": "2023-11-06T20:02:02.388467",
     "exception": false,
     "start_time": "2023-11-06T20:02:02.373653",
     "status": "completed"
    },
    "tags": []
   },
   "outputs": [],
   "source": [
    "Gp = create_virtual_network(v_rows, v_cols)\n",
    "Gv = create_physical_network(p_rows, p_cols)\n",
    "\n",
    "c2 = channel_2(v_rows,v_cols)\n",
    "c3 = channel_3(p_rows, p_cols)"
   ]
  },
  {
   "cell_type": "code",
   "execution_count": 14,
   "id": "6c0e2b3d",
   "metadata": {
    "execution": {
     "iopub.execute_input": "2023-11-06T20:02:02.403589Z",
     "iopub.status.busy": "2023-11-06T20:02:02.402938Z",
     "iopub.status.idle": "2023-11-06T20:02:02.414155Z",
     "shell.execute_reply": "2023-11-06T20:02:02.413097Z"
    },
    "papermill": {
     "duration": 0.020308,
     "end_time": "2023-11-06T20:02:02.415340",
     "exception": true,
     "start_time": "2023-11-06T20:02:02.395032",
     "status": "failed"
    },
    "tags": []
   },
   "outputs": [
    {
     "ename": "SyntaxError",
     "evalue": "cannot assign to function call here. Maybe you meant '==' instead of '='? (3603830383.py, line 53)",
     "output_type": "error",
     "traceback": [
      "\u001b[0;36m  Cell \u001b[0;32mIn[14], line 53\u001b[0;36m\u001b[0m\n\u001b[0;31m    f(nv) = np  # Define the f() function\u001b[0m\n\u001b[0m    ^\u001b[0m\n\u001b[0;31mSyntaxError\u001b[0m\u001b[0;31m:\u001b[0m cannot assign to function call here. Maybe you meant '==' instead of '='?\n"
     ]
    }
   ],
   "source": [
    "# Define the create_representation function\n",
    "def create_representation(Gp, Gv, np0, nv0):\n",
    "    # Implement the logic to create an image representation\n",
    "    pass\n",
    "\n",
    "# Define the update_pointer function\n",
    "def update_pointer(pointer, action):\n",
    "    # Implement the logic to update the pointer based on the action\n",
    "    pass\n",
    "\n",
    "# Define the update_representation function\n",
    "def update_representation(np, nv, np_next, nv_next, embedded_virtual_nodes):\n",
    "    # Implement the logic to update the image representation\n",
    "    pass\n",
    "\n",
    "# Define the ϵ-greedy function\n",
    "def epsilon_greedy(DNN, img, epsilon):\n",
    "    # Implement the ϵ-greedy action selection\n",
    "    pass\n",
    "\n",
    "# Define the train function for the neural network\n",
    "def train(DNN, memory):\n",
    "    # Implement the logic to train the neural network using the experience memory\n",
    "    pass\n",
    "\n",
    "# Initialize variables and data structures\n",
    "Np = []  # List of physical nodes\n",
    "Nv = []  # List of virtual nodes\n",
    "DNN = None  # Initialize the neural network\n",
    "memory = []  # Initialize the experience replay memory\n",
    "\n",
    "max_iteration = 100  # Maximum number of iterations\n",
    "epsilon = 0.1  # Epsilon for ϵ-greedy\n",
    "\n",
    "np0 = random.choice(Np)\n",
    "nv0 = random.choice(Nv)\n",
    "E = set()  # Set of embedded virtual nodes\n",
    "\n",
    "# Main loop\n",
    "for t in range(max_iteration):\n",
    "    reward = 0\n",
    "    img = create_representation(Gp, Gv, np0, nv0)\n",
    "    a = epsilon_greedy(DNN, img, epsilon)\n",
    "    \n",
    "    if a in {a1, a2, a3, a4}:\n",
    "        np_next = update_pointer(np, a)\n",
    "        img_next = update_representation(np, nv, np_next, nv, E)\n",
    "    elif a in {a5, a6, a7, a8}:\n",
    "        nv_next = update_pointer(nv, a)\n",
    "        img_next = update_representation(np, nv, np, nv_next, E)\n",
    "    elif all(img >= 0):\n",
    "        E.add(nv)\n",
    "        f(nv) = np  # Define the f() function\n",
    "        img_next = update_representation(np, nv, np, nv, E)\n",
    "        if E == Nv:\n",
    "            reward = 1\n",
    "        else:\n",
    "            reward = 0.01\n",
    "    else:\n",
    "        reward = -0.01\n",
    "    \n",
    "    memory.append((img, a, img_next, reward))\n",
    "    img = img_next\n",
    "    \n",
    "    if E == Nv or reward < 0:\n",
    "        break\n",
    "\n",
    "# Train the DNN using the experience memory\n",
    "DNN = train(DNN, memory)"
   ]
  },
  {
   "cell_type": "code",
   "execution_count": null,
   "id": "08512364",
   "metadata": {
    "papermill": {
     "duration": null,
     "end_time": null,
     "exception": null,
     "start_time": null,
     "status": "pending"
    },
    "tags": []
   },
   "outputs": [],
   "source": [
    "def update_representation(np_t, nv_t, np_t1, nv_t1, E):\n",
    "    # Step 1: Update CPU resources for nˆp t+1\n",
    "    CPU[np_t1] -= CPU[nv_t1]\n",
    "\n",
    "    # Step 2: Find neighbors of n^v t+1 that are in E\n",
    "    En = [n for n in E if n in neighbors(nv_t1)]\n",
    "\n",
    "    # Step 3: Iterate over neighbors in E\n",
    "    for nv_j in En:\n",
    "        # Step 4: Find the shortest path from f(nˆv t+1) to f(nv_j)\n",
    "        path = shortest_path(f(nv_t1), f(nv_j))\n",
    "\n",
    "        # Step 5: Update link bandwidth for each link in the path\n",
    "        for lp in path:\n",
    "            lv_i_j = link_between(nv_t1, nv_j)\n",
    "            BW[lp] -= BW[lv_i_j]\n",
    "\n",
    "    # Step 10: Update CPU resources for nˆp t\n",
    "    CPU[np_t] += CPU[nv_t]\n",
    "\n",
    "    # Step 11: Find neighbors of n^v t that are in E\n",
    "    En = [n for n in E if n in neighbors(nv_t)]\n",
    "\n",
    "    # Step 12: Iterate over neighbors in E\n",
    "    for nv_j in En:\n",
    "        # Step 13: Find the shortest path from f(nˆv t) to f(nv_j)\n",
    "        path = shortest_path(f(nv_t), f(nv_j))\n",
    "\n",
    "        # Step 14: Update link bandwidth for each link in the path\n",
    "        for lp in path:\n",
    "            lv_i_j = link_between(nv_t, nv_j)\n",
    "            BW[lp] += BW[lv_i_j]\n",
    "\n",
    "    # Step 19: Update embedding status and embedded virtual nodes of physical nodes based on E and f(·)\n",
    "    update_embedding_status_and_embedded_virtual_nodes(E, f)\n",
    "\n",
    "# Example functions and data structures for reference\n",
    "def neighbors(node):\n",
    "    # Implement logic to find neighbors of a node\n",
    "    pass\n",
    "\n",
    "def shortest_path(source, target):\n",
    "    # Implement logic to find the shortest path between two nodes\n",
    "    pass\n",
    "\n",
    "def f(node):\n",
    "    # Define the f() function\n",
    "    pass\n",
    "\n",
    "def link_between(node1, node2):\n",
    "    # Implement logic to find the link between two nodes\n",
    "    pass\n",
    "\n",
    "# Example data structures\n",
    "CPU = {}  # Dictionary to store CPU resources for nodes\n",
    "BW = {}   # Dictionary to store link bandwidth"
   ]
  }
 ],
 "metadata": {
  "kernelspec": {
   "display_name": "Python 3",
   "language": "python",
   "name": "python3"
  },
  "language_info": {
   "codemirror_mode": {
    "name": "ipython",
    "version": 3
   },
   "file_extension": ".py",
   "mimetype": "text/x-python",
   "name": "python",
   "nbconvert_exporter": "python",
   "pygments_lexer": "ipython3",
   "version": "3.10.12"
  },
  "papermill": {
   "default_parameters": {},
   "duration": 3.994827,
   "end_time": "2023-11-06T20:02:02.740855",
   "environment_variables": {},
   "exception": true,
   "input_path": "__notebook__.ipynb",
   "output_path": "__notebook__.ipynb",
   "parameters": {},
   "start_time": "2023-11-06T20:01:58.746028",
   "version": "2.4.0"
  }
 },
 "nbformat": 4,
 "nbformat_minor": 5
}
